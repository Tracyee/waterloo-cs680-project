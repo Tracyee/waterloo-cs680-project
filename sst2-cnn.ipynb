{
 "cells": [
  {
   "cell_type": "markdown",
   "metadata": {},
   "source": [
    "### Load Data"
   ]
  },
  {
   "cell_type": "code",
   "execution_count": 1,
   "metadata": {},
   "outputs": [],
   "source": [
    "from fastNLP.io import SSTLoader\n",
    "\n",
    "# initialize the SSTLoader\n",
    "loader = SSTLoader()\n",
    "# download the dataset to the default cache directory and returns the directory\n",
    "data_dir = loader.download()\n",
    "# load the dataset from the directory to a DataBundle   \n",
    "data_bundle = loader.load(data_dir)  "
   ]
  },
  {
   "cell_type": "code",
   "execution_count": 2,
   "metadata": {},
   "outputs": [
    {
     "name": "stdout",
     "output_type": "stream",
     "text": [
      "In total 3 datasets:\n",
      "\tdev has 1101 instances.\n",
      "\ttest has 2210 instances.\n",
      "\ttrain has 8544 instances.\n",
      "\n"
     ]
    }
   ],
   "source": [
    "print(data_bundle)"
   ]
  },
  {
   "cell_type": "markdown",
   "metadata": {},
   "source": [
    "### Preprocessing"
   ]
  },
  {
   "cell_type": "code",
   "execution_count": 3,
   "metadata": {},
   "outputs": [
    {
     "name": "stdout",
     "output_type": "stream",
     "text": [
      "In total 3 datasets:\n",
      "\tdev has 872 instances.\n",
      "\ttest has 1821 instances.\n",
      "\ttrain has 98794 instances.\n",
      "In total 2 vocabs:\n",
      "\twords has 19446 entries.\n",
      "\ttarget has 2 entries.\n",
      "\n"
     ]
    }
   ],
   "source": [
    "from fastNLP.io import SSTPipe\n",
    "\n",
    "pipe = SSTPipe(subtree=False, \n",
    "               train_subtree=True, \n",
    "               lower=False, \n",
    "               granularity=2, tokenizer='spacy')\n",
    "\n",
    "# (1) tokenization;\n",
    "# (2) create vocabulary and indices from words;\n",
    "data_bundle = pipe.process(data_bundle)  \n",
    "\n",
    "print(data_bundle)"
   ]
  },
  {
   "cell_type": "code",
   "execution_count": 4,
   "metadata": {},
   "outputs": [
    {
     "name": "stdout",
     "output_type": "stream",
     "text": [
      "+------------------------+--------+------------------------+---------+\n",
      "| raw_words              | target | words                  | seq_len |\n",
      "+------------------------+--------+------------------------+---------+\n",
      "| The Rock is destine... | 0      | [25, 1448, 11, 4755... | 39      |\n",
      "| is destined to be t... | 0      | [11, 4755, 9, 24, 3... | 37      |\n",
      "| is destined to be t... | 0      | [11, 4755, 9, 24, 3... | 36      |\n",
      "| destined to be the ... | 0      | [4755, 9, 24, 3, 47... | 35      |\n",
      "| new                    | 0      | [115]                  | 1       |\n",
      "+------------------------+--------+------------------------+---------+\n"
     ]
    }
   ],
   "source": [
    "print(data_bundle.get_dataset('train')[:5])"
   ]
  },
  {
   "cell_type": "code",
   "execution_count": 5,
   "metadata": {},
   "outputs": [
    {
     "name": "stdout",
     "output_type": "stream",
     "text": [
      "Vocabulary(['The', 'Rock', 'is', 'destined', 'to']...)\n"
     ]
    }
   ],
   "source": [
    "vocab = data_bundle.get_vocab('words')\n",
    "print(vocab)"
   ]
  },
  {
   "cell_type": "code",
   "execution_count": 6,
   "metadata": {},
   "outputs": [
    {
     "name": "stdout",
     "output_type": "stream",
     "text": [
      "The index of the word 'new' is 115\n",
      "index:115 corresponds to the word new\n"
     ]
    }
   ],
   "source": [
    "index = vocab.to_index('new')\n",
    "print(\"The index of the word 'new' is {}\".format(index))\n",
    "print(\"index:{} corresponds to the word {}\".format(index, vocab.to_word(index)))"
   ]
  },
  {
   "cell_type": "markdown",
   "metadata": {},
   "source": [
    "### Word Embedding"
   ]
  },
  {
   "cell_type": "code",
   "execution_count": 7,
   "metadata": {},
   "outputs": [
    {
     "name": "stdout",
     "output_type": "stream",
     "text": [
      "Found 14417 out of 19446 words in the pre-training embedding.\n"
     ]
    }
   ],
   "source": [
    "from fastNLP.embeddings import StaticEmbedding\n",
    "\n",
    "glove_embed = StaticEmbedding(vocab, model_dir_or_name='en-glove-42b-300d', requires_grad=True)"
   ]
  },
  {
   "cell_type": "markdown",
   "metadata": {},
   "source": [
    "### Load Training/Testing/Validation Set"
   ]
  },
  {
   "cell_type": "code",
   "execution_count": 8,
   "metadata": {},
   "outputs": [
    {
     "name": "stdout",
     "output_type": "stream",
     "text": [
      "#entries in training set:98794\n",
      "#entries in testing set:1821\n",
      "#entries in validation set:872\n",
      "\n"
     ]
    }
   ],
   "source": [
    "train_data = data_bundle.get_dataset('train')\n",
    "test_data = data_bundle.get_dataset('test')\n",
    "val_data = data_bundle.get_dataset('dev')\n",
    "\n",
    "print(\"#entries in training set:{}\\n#entries in testing set:{}\\n#entries in validation set:{}\\n\"\n",
    "      .format(len(train_data), len(test_data), len(val_data)))"
   ]
  },
  {
   "cell_type": "code",
   "execution_count": 9,
   "metadata": {},
   "outputs": [
    {
     "name": "stdout",
     "output_type": "stream",
     "text": [
      "+-------------+-----------+--------+-------+---------+\n",
      "| field_names | raw_words | target | words | seq_len |\n",
      "+-------------+-----------+--------+-------+---------+\n",
      "|   is_input  |   False   | False  |  True |   True  |\n",
      "|  is_target  |   False   |  True  | False |  False  |\n",
      "| ignore_type |           | False  | False |  False  |\n",
      "|  pad_value  |           |   0    |   0   |    0    |\n",
      "+-------------+-----------+--------+-------+---------+\n"
     ]
    },
    {
     "data": {
      "text/plain": [
       "<prettytable.prettytable.PrettyTable at 0x7f7c7d4b98d0>"
      ]
     },
     "execution_count": 9,
     "metadata": {},
     "output_type": "execute_result"
    }
   ],
   "source": [
    "# NOTE: field whose is_input is true will become batch_x for iterations in DataSetIter \n",
    "#       while field whose is_target is true will become batch_y for iterations in DataSetIter\n",
    "\n",
    "train_data.print_field_meta()"
   ]
  },
  {
   "cell_type": "markdown",
   "metadata": {},
   "source": [
    "### Create Model"
   ]
  },
  {
   "cell_type": "code",
   "execution_count": 10,
   "metadata": {},
   "outputs": [
    {
     "name": "stdout",
     "output_type": "stream",
     "text": [
      "CNNText(\n",
      "  (embed): Embedding(\n",
      "    (embed): Embedding(19446, 300)\n",
      "    (dropout): Dropout(p=0.0, inplace=False)\n",
      "  )\n",
      "  (conv_pool): ConvMaxpool(\n",
      "    (convs): ModuleList(\n",
      "      (0): Conv1d(300, 100, kernel_size=(1,), stride=(1,), bias=False)\n",
      "      (1): Conv1d(300, 100, kernel_size=(3,), stride=(1,), padding=(1,), bias=False)\n",
      "      (2): Conv1d(300, 100, kernel_size=(5,), stride=(1,), padding=(2,), bias=False)\n",
      "    )\n",
      "  )\n",
      "  (dropout): Dropout(p=0.5, inplace=False)\n",
      "  (fc): Linear(in_features=300, out_features=2, bias=True)\n",
      ")\n"
     ]
    }
   ],
   "source": [
    "from fastNLP.models import CNNText\n",
    "\n",
    "# dimention for word embedding\n",
    "EMBED_DIM = 300\n",
    "\n",
    "model_cnn = CNNText((len(vocab),EMBED_DIM), num_classes=2, kernel_nums=(100, 100, 100),\n",
    "                 kernel_sizes=(1, 3, 5), dropout=0.5)\n",
    "\n",
    "\n",
    "print(model_cnn)"
   ]
  },
  {
   "cell_type": "markdown",
   "metadata": {},
   "source": [
    "### Evaluation Metric"
   ]
  },
  {
   "cell_type": "code",
   "execution_count": 11,
   "metadata": {},
   "outputs": [],
   "source": [
    "from fastNLP import AccuracyMetric\n",
    "from fastNLP import Const\n",
    "\n",
    "# `pred` corresponds to one key from the returned dict by the `forward` method of the model\n",
    "# `target` corresponds to the field name representing the lable of the DataSet\n",
    "metrics = AccuracyMetric(pred=Const.OUTPUT, target=Const.TARGET)"
   ]
  },
  {
   "cell_type": "markdown",
   "metadata": {},
   "source": [
    "### Loss Function & Optimizer"
   ]
  },
  {
   "cell_type": "code",
   "execution_count": 12,
   "metadata": {},
   "outputs": [],
   "source": [
    "from fastNLP import CrossEntropyLoss\n",
    "\n",
    "loss = CrossEntropyLoss(pred=Const.OUTPUT, target=Const.TARGET)"
   ]
  },
  {
   "cell_type": "code",
   "execution_count": 13,
   "metadata": {},
   "outputs": [],
   "source": [
    "import torch.optim as optim\n",
    "\n",
    "optimizer = optim.Adam(model_cnn.parameters(), lr=1e-3, betas=(0.9, 0.999), \n",
    "                       eps=1e-08, weight_decay=0, amsgrad=False)\n"
   ]
  },
  {
   "cell_type": "markdown",
   "metadata": {},
   "source": [
    "### Train the Model"
   ]
  },
  {
   "cell_type": "code",
   "execution_count": 14,
   "metadata": {},
   "outputs": [
    {
     "name": "stdout",
     "output_type": "stream",
     "text": [
      "input fields after batch(if batch size is 2):\n",
      "\twords: (1)type:torch.Tensor (2)dtype:torch.int64, (3)shape:torch.Size([2, 39]) \n",
      "\tseq_len: (1)type:torch.Tensor (2)dtype:torch.int64, (3)shape:torch.Size([2]) \n",
      "target fields after batch(if batch size is 2):\n",
      "\ttarget: (1)type:torch.Tensor (2)dtype:torch.int64, (3)shape:torch.Size([2]) \n",
      "\n",
      "training epochs started 2021-04-19-17-39-18-242916\n"
     ]
    },
    {
     "data": {
      "application/vnd.jupyter.widget-view+json": {
       "model_id": "",
       "version_major": 2,
       "version_minor": 0
      },
      "text/plain": [
       "HBox(children=(FloatProgress(value=0.0, layout=Layout(flex='2'), max=15440.0), HTML(value='')), layout=Layout(…"
      ]
     },
     "metadata": {},
     "output_type": "display_data"
    },
    {
     "data": {
      "application/vnd.jupyter.widget-view+json": {
       "model_id": "",
       "version_major": 2,
       "version_minor": 0
      },
      "text/plain": [
       "HBox(children=(FloatProgress(value=0.0, layout=Layout(flex='2'), max=28.0), HTML(value='')), layout=Layout(dis…"
      ]
     },
     "metadata": {},
     "output_type": "display_data"
    },
    {
     "name": "stdout",
     "output_type": "stream",
     "text": [
      "\r",
      "Evaluate data in 0.06 seconds!\n",
      "\r",
      "Evaluation on dev at Epoch 1/5. Step:3088/15440: \n",
      "\r",
      "AccuracyMetric: acc=0.838303\n",
      "\n"
     ]
    },
    {
     "data": {
      "application/vnd.jupyter.widget-view+json": {
       "model_id": "",
       "version_major": 2,
       "version_minor": 0
      },
      "text/plain": [
       "HBox(children=(FloatProgress(value=0.0, layout=Layout(flex='2'), max=28.0), HTML(value='')), layout=Layout(dis…"
      ]
     },
     "metadata": {},
     "output_type": "display_data"
    },
    {
     "name": "stdout",
     "output_type": "stream",
     "text": [
      "\r",
      "Evaluate data in 0.06 seconds!\n",
      "\r",
      "Evaluation on dev at Epoch 2/5. Step:6176/15440: \n",
      "\r",
      "AccuracyMetric: acc=0.831422\n",
      "\n"
     ]
    },
    {
     "data": {
      "application/vnd.jupyter.widget-view+json": {
       "model_id": "",
       "version_major": 2,
       "version_minor": 0
      },
      "text/plain": [
       "HBox(children=(FloatProgress(value=0.0, layout=Layout(flex='2'), max=28.0), HTML(value='')), layout=Layout(dis…"
      ]
     },
     "metadata": {},
     "output_type": "display_data"
    },
    {
     "name": "stdout",
     "output_type": "stream",
     "text": [
      "\r",
      "Evaluate data in 0.06 seconds!\n",
      "\r",
      "Evaluation on dev at Epoch 3/5. Step:9264/15440: \n",
      "\r",
      "AccuracyMetric: acc=0.824541\n",
      "\n"
     ]
    },
    {
     "data": {
      "application/vnd.jupyter.widget-view+json": {
       "model_id": "",
       "version_major": 2,
       "version_minor": 0
      },
      "text/plain": [
       "HBox(children=(FloatProgress(value=0.0, layout=Layout(flex='2'), max=28.0), HTML(value='')), layout=Layout(dis…"
      ]
     },
     "metadata": {},
     "output_type": "display_data"
    },
    {
     "name": "stdout",
     "output_type": "stream",
     "text": [
      "\r",
      "Evaluate data in 0.06 seconds!\n",
      "\r",
      "Evaluation on dev at Epoch 4/5. Step:12352/15440: \n",
      "\r",
      "AccuracyMetric: acc=0.813073\n",
      "\n"
     ]
    },
    {
     "data": {
      "application/vnd.jupyter.widget-view+json": {
       "model_id": "",
       "version_major": 2,
       "version_minor": 0
      },
      "text/plain": [
       "HBox(children=(FloatProgress(value=0.0, layout=Layout(flex='2'), max=28.0), HTML(value='')), layout=Layout(dis…"
      ]
     },
     "metadata": {},
     "output_type": "display_data"
    },
    {
     "name": "stdout",
     "output_type": "stream",
     "text": [
      "\r",
      "Evaluate data in 0.09 seconds!\n",
      "\r",
      "Evaluation on dev at Epoch 5/5. Step:15440/15440: \n",
      "\r",
      "AccuracyMetric: acc=0.817661\n",
      "\n",
      "\r",
      "Reloaded the best model.\n",
      "\n",
      "In Epoch:1/Step:3088, got best dev performance:\n",
      "AccuracyMetric: acc=0.838303\n"
     ]
    },
    {
     "data": {
      "text/plain": [
       "{'best_eval': {'AccuracyMetric': {'acc': 0.838303}},\n",
       " 'best_epoch': 1,\n",
       " 'best_step': 3088,\n",
       " 'seconds': 100.99}"
      ]
     },
     "execution_count": 14,
     "metadata": {},
     "output_type": "execute_result"
    }
   ],
   "source": [
    "from fastNLP import Trainer\n",
    "import torch\n",
    "\n",
    "N_EPOCHS = 5 \n",
    "BATCH_SIZE = 32\n",
    "\n",
    "device = torch.device('cuda' if torch.cuda.is_available() else 'cpu')\n",
    "\n",
    "trainer = Trainer(model=model_cnn, train_data=train_data, dev_data=val_data, \n",
    "                  loss=loss, metrics=metrics, optimizer=optimizer,\n",
    "                  n_epochs=N_EPOCHS, batch_size=BATCH_SIZE, device=device,\n",
    "                  save_path='./saved_models/sst2-cnn-rand.pt')\n",
    "trainer.train()"
   ]
  },
  {
   "cell_type": "markdown",
   "metadata": {},
   "source": [
    "### Test the Model"
   ]
  },
  {
   "cell_type": "code",
   "execution_count": 15,
   "metadata": {
    "scrolled": true
   },
   "outputs": [
    {
     "data": {
      "application/vnd.jupyter.widget-view+json": {
       "model_id": "",
       "version_major": 2,
       "version_minor": 0
      },
      "text/plain": [
       "HBox(children=(FloatProgress(value=0.0, layout=Layout(flex='2'), max=114.0), HTML(value='')), layout=Layout(di…"
      ]
     },
     "metadata": {},
     "output_type": "display_data"
    },
    {
     "name": "stdout",
     "output_type": "stream",
     "text": [
      "\r",
      "Evaluate data in 0.33 seconds!\n",
      "[tester] \n",
      "AccuracyMetric: acc=0.83251\n"
     ]
    },
    {
     "data": {
      "text/plain": [
       "{'AccuracyMetric': {'acc': 0.83251}}"
      ]
     },
     "execution_count": 15,
     "metadata": {},
     "output_type": "execute_result"
    }
   ],
   "source": [
    "from fastNLP import Tester\n",
    "\n",
    "tester = Tester(test_data, model_cnn, metrics=AccuracyMetric())\n",
    "tester.test()"
   ]
  },
  {
   "cell_type": "code",
   "execution_count": null,
   "metadata": {},
   "outputs": [],
   "source": []
  }
 ],
 "metadata": {
  "kernelspec": {
   "display_name": "Conda Py37-Cuda101",
   "language": "python",
   "name": "py37-cuda101"
  },
  "language_info": {
   "codemirror_mode": {
    "name": "ipython",
    "version": 3
   },
   "file_extension": ".py",
   "mimetype": "text/x-python",
   "name": "python",
   "nbconvert_exporter": "python",
   "pygments_lexer": "ipython3",
   "version": "3.7.7"
  }
 },
 "nbformat": 4,
 "nbformat_minor": 5
}
