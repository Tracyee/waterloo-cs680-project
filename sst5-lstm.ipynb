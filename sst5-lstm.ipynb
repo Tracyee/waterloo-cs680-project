{
 "cells": [
  {
   "cell_type": "markdown",
   "metadata": {},
   "source": [
    "### Load Data"
   ]
  },
  {
   "cell_type": "code",
   "execution_count": 1,
   "metadata": {},
   "outputs": [],
   "source": [
    "from fastNLP.io import SSTLoader\n",
    "\n",
    "# initialize the SSTLoader\n",
    "loader = SSTLoader()\n",
    "# download the dataset to the default cache directory and returns the directory\n",
    "data_dir = loader.download()\n",
    "# load the dataset from the directory to a DataBundle   \n",
    "data_bundle = loader.load(data_dir)  "
   ]
  },
  {
   "cell_type": "code",
   "execution_count": 2,
   "metadata": {},
   "outputs": [
    {
     "name": "stdout",
     "output_type": "stream",
     "text": [
      "In total 3 datasets:\n",
      "\tdev has 1101 instances.\n",
      "\ttest has 2210 instances.\n",
      "\ttrain has 8544 instances.\n",
      "\n"
     ]
    }
   ],
   "source": [
    "print(data_bundle)"
   ]
  },
  {
   "cell_type": "markdown",
   "metadata": {},
   "source": [
    "### Preprocessing"
   ]
  },
  {
   "cell_type": "code",
   "execution_count": 3,
   "metadata": {},
   "outputs": [
    {
     "name": "stdout",
     "output_type": "stream",
     "text": [
      "In total 3 datasets:\n",
      "\tdev has 1101 instances.\n",
      "\ttest has 2210 instances.\n",
      "\ttrain has 318582 instances.\n",
      "In total 2 vocabs:\n",
      "\twords has 20204 entries.\n",
      "\ttarget has 5 entries.\n",
      "\n"
     ]
    }
   ],
   "source": [
    "from fastNLP.io import SSTPipe\n",
    "\n",
    "pipe = SSTPipe(subtree=False, \n",
    "               train_subtree=True, \n",
    "               lower=False, \n",
    "               granularity=5, tokenizer='spacy')\n",
    "\n",
    "# (1) tokenization;\n",
    "# (2) create vocabulary and indices from words;\n",
    "data_bundle = pipe.process(data_bundle)  \n",
    "\n",
    "print(data_bundle)"
   ]
  },
  {
   "cell_type": "code",
   "execution_count": 4,
   "metadata": {},
   "outputs": [
    {
     "name": "stdout",
     "output_type": "stream",
     "text": [
      "+------------------------+--------+------------------------+---------+\n",
      "| raw_words              | target | words                  | seq_len |\n",
      "+------------------------+--------+------------------------+---------+\n",
      "| The Rock is destine... | 1      | [21, 1215, 11, 5536... | 39      |\n",
      "| The Rock               | 0      | [21, 1215]             | 2       |\n",
      "| The                    | 0      | [21]                   | 1       |\n",
      "| Rock                   | 0      | [1215]                 | 1       |\n",
      "| is destined to be t... | 3      | [11, 5536, 8, 26, 2... | 37      |\n",
      "+------------------------+--------+------------------------+---------+\n"
     ]
    }
   ],
   "source": [
    "print(data_bundle.get_dataset('train')[:5])"
   ]
  },
  {
   "cell_type": "code",
   "execution_count": 5,
   "metadata": {},
   "outputs": [
    {
     "name": "stdout",
     "output_type": "stream",
     "text": [
      "Vocabulary(['The', 'Rock', 'is', 'destined', 'to']...)\n"
     ]
    }
   ],
   "source": [
    "vocab = data_bundle.get_vocab('words')\n",
    "print(vocab)"
   ]
  },
  {
   "cell_type": "code",
   "execution_count": 6,
   "metadata": {},
   "outputs": [
    {
     "name": "stdout",
     "output_type": "stream",
     "text": [
      "The index of the word 'Rock' is 1215\n",
      "index:1215 corresponds to the word Rock\n"
     ]
    }
   ],
   "source": [
    "index = vocab.to_index('Rock')\n",
    "print(\"The index of the word 'Rock' is {}\".format(index))\n",
    "print(\"index:{} corresponds to the word {}\".format(index, vocab.to_word(index)))"
   ]
  },
  {
   "cell_type": "markdown",
   "metadata": {},
   "source": [
    "### Word Embedding"
   ]
  },
  {
   "cell_type": "code",
   "execution_count": 7,
   "metadata": {},
   "outputs": [
    {
     "name": "stdout",
     "output_type": "stream",
     "text": [
      "Found 14858 out of 20204 words in the pre-training embedding.\n"
     ]
    }
   ],
   "source": [
    "from fastNLP.embeddings import StaticEmbedding\n",
    "\n",
    "glove_embed = StaticEmbedding(vocab, model_dir_or_name='en-glove-42b-300d', requires_grad=True)"
   ]
  },
  {
   "cell_type": "markdown",
   "metadata": {},
   "source": [
    "### Load Training/Testing/Validation Set"
   ]
  },
  {
   "cell_type": "code",
   "execution_count": 8,
   "metadata": {},
   "outputs": [
    {
     "name": "stdout",
     "output_type": "stream",
     "text": [
      "#entries in training set:318582\n",
      "#entries in testing set:2210\n",
      "#entries in validation set:1101\n",
      "\n"
     ]
    }
   ],
   "source": [
    "train_data = data_bundle.get_dataset('train')\n",
    "test_data = data_bundle.get_dataset('test')\n",
    "val_data = data_bundle.get_dataset('dev')\n",
    "\n",
    "print(\"#entries in training set:{}\\n#entries in testing set:{}\\n#entries in validation set:{}\\n\"\n",
    "      .format(len(train_data), len(test_data), len(val_data)))"
   ]
  },
  {
   "cell_type": "code",
   "execution_count": 9,
   "metadata": {},
   "outputs": [
    {
     "name": "stdout",
     "output_type": "stream",
     "text": [
      "+-------------+-----------+--------+-------+---------+\n",
      "| field_names | raw_words | target | words | seq_len |\n",
      "+-------------+-----------+--------+-------+---------+\n",
      "|   is_input  |   False   | False  |  True |   True  |\n",
      "|  is_target  |   False   |  True  | False |  False  |\n",
      "| ignore_type |           | False  | False |  False  |\n",
      "|  pad_value  |           |   0    |   0   |    0    |\n",
      "+-------------+-----------+--------+-------+---------+\n"
     ]
    },
    {
     "data": {
      "text/plain": [
       "<prettytable.prettytable.PrettyTable at 0x7f5becb3b890>"
      ]
     },
     "execution_count": 9,
     "metadata": {},
     "output_type": "execute_result"
    }
   ],
   "source": [
    "# NOTE: field whose is_input is true will become batch_x for iterations in DataSetIter \n",
    "#       while field whose is_target is true will become batch_y for iterations in DataSetIter\n",
    "\n",
    "train_data.print_field_meta()"
   ]
  },
  {
   "cell_type": "markdown",
   "metadata": {},
   "source": [
    "### Create Model"
   ]
  },
  {
   "cell_type": "code",
   "execution_count": 23,
   "metadata": {},
   "outputs": [
    {
     "name": "stdout",
     "output_type": "stream",
     "text": [
      "LSTMText(\n",
      "  (embedding): StaticEmbedding(\n",
      "    (dropout_layer): Dropout(p=0, inplace=False)\n",
      "    (embedding): Embedding(19326, 300, padding_idx=0)\n",
      "  )\n",
      "  (lstm): LSTM(\n",
      "    (lstm): LSTM(300, 128, num_layers=2, batch_first=True, bidirectional=True)\n",
      "  )\n",
      "  (mlp): MLP(\n",
      "    (hiddens): ModuleList()\n",
      "    (output): Linear(in_features=256, out_features=5, bias=True)\n",
      "    (dropout): Dropout(p=0.5, inplace=False)\n",
      "  )\n",
      ")\n"
     ]
    }
   ],
   "source": [
    "from fastNLP.modules import LSTM, MLP\n",
    "from torch import nn\n",
    "\n",
    "# dimention for word embedding\n",
    "EMBED_DIM = 300\n",
    "\n",
    "class LSTMText(nn.Module):\n",
    "    def __init__(self, embed, num_classes, hidden_dim=64, num_layers=2, dropout=0.5):\n",
    "        super().__init__()\n",
    "        \n",
    "        self.embedding = embed\n",
    "        self.lstm = LSTM(self.embedding.embedding_dim, hidden_dim, num_layers=num_layers, bidirectional=True)\n",
    "        self.mlp = MLP([hidden_dim*2,num_classes], dropout=dropout)\n",
    "\n",
    "    def forward(self, words):\n",
    "        embedded = self.embedding(words)\n",
    "        _,(hidden,_) = self.lstm(embedded)\n",
    "        pred = self.mlp(torch.cat((hidden[-1],hidden[-2]),dim=1))\n",
    "        return {\"pred\":pred}\n",
    "    \n",
    "model_lstm = LSTMText(embed=glove_embed, num_classes=5, \n",
    "                      hidden_dim=128, num_layers=2, dropout=0.5)\n",
    "\n",
    "print(model_lstm)"
   ]
  },
  {
   "cell_type": "markdown",
   "metadata": {},
   "source": [
    "### Evaluation Metric"
   ]
  },
  {
   "cell_type": "code",
   "execution_count": 24,
   "metadata": {},
   "outputs": [],
   "source": [
    "from fastNLP import AccuracyMetric\n",
    "from fastNLP import Const\n",
    "\n",
    "# `pred` corresponds to one key from the returned dict by the `forward` method of the model\n",
    "# `target` corresponds to the field name representing the lable of the DataSet\n",
    "metrics = AccuracyMetric(pred=Const.OUTPUT, target=Const.TARGET)"
   ]
  },
  {
   "cell_type": "markdown",
   "metadata": {},
   "source": [
    "### Loss Function & Optimizer"
   ]
  },
  {
   "cell_type": "code",
   "execution_count": 25,
   "metadata": {},
   "outputs": [],
   "source": [
    "from fastNLP import CrossEntropyLoss\n",
    "\n",
    "loss = CrossEntropyLoss(pred=Const.OUTPUT, target=Const.TARGET)"
   ]
  },
  {
   "cell_type": "code",
   "execution_count": 26,
   "metadata": {},
   "outputs": [],
   "source": [
    "import torch.optim as optim\n",
    "\n",
    "optimizer = optim.Adam(model_lstm.parameters(), lr=1e-3, betas=(0.9, 0.999), \n",
    "                       eps=1e-08, weight_decay=0, amsgrad=False)\n"
   ]
  },
  {
   "cell_type": "markdown",
   "metadata": {},
   "source": [
    "### Train the Model"
   ]
  },
  {
   "cell_type": "code",
   "execution_count": 28,
   "metadata": {},
   "outputs": [
    {
     "name": "stdout",
     "output_type": "stream",
     "text": [
      "input fields after batch(if batch size is 2):\n",
      "\twords: (1)type:torch.Tensor (2)dtype:torch.int64, (3)shape:torch.Size([2, 39]) \n",
      "\tseq_len: (1)type:torch.Tensor (2)dtype:torch.int64, (3)shape:torch.Size([2]) \n",
      "target fields after batch(if batch size is 2):\n",
      "\ttarget: (1)type:torch.Tensor (2)dtype:torch.int64, (3)shape:torch.Size([2]) \n",
      "\n",
      "training epochs started 2021-04-18-10-43-06-089928\n"
     ]
    },
    {
     "data": {
      "application/vnd.jupyter.widget-view+json": {
       "model_id": "",
       "version_major": 2,
       "version_minor": 0
      },
      "text/plain": [
       "HBox(children=(FloatProgress(value=0.0, layout=Layout(flex='2'), max=49780.0), HTML(value='')), layout=Layout(…"
      ]
     },
     "metadata": {},
     "output_type": "display_data"
    },
    {
     "data": {
      "application/vnd.jupyter.widget-view+json": {
       "model_id": "",
       "version_major": 2,
       "version_minor": 0
      },
      "text/plain": [
       "HBox(children=(FloatProgress(value=0.0, layout=Layout(flex='2'), max=35.0), HTML(value='')), layout=Layout(dis…"
      ]
     },
     "metadata": {},
     "output_type": "display_data"
    },
    {
     "name": "stdout",
     "output_type": "stream",
     "text": [
      "\r",
      "Evaluate data in 0.33 seconds!\n"
     ]
    },
    {
     "name": "stderr",
     "output_type": "stream",
     "text": [
      "/home/ubuntu/miniconda3/envs/py37-cuda101/lib/python3.7/site-packages/torch/serialization.py:360: UserWarning: Couldn't retrieve source code for container of type LSTMText. It won't be checked for correctness upon loading.\n",
      "  \"type \" + obj.__name__ + \". It won't be checked \"\n"
     ]
    },
    {
     "name": "stdout",
     "output_type": "stream",
     "text": [
      "\r",
      "Evaluation on dev at Epoch 1/5. Step:9956/49780: \n",
      "\r",
      "AccuracyMetric: acc=0.425068\n",
      "\n"
     ]
    },
    {
     "data": {
      "application/vnd.jupyter.widget-view+json": {
       "model_id": "",
       "version_major": 2,
       "version_minor": 0
      },
      "text/plain": [
       "HBox(children=(FloatProgress(value=0.0, layout=Layout(flex='2'), max=35.0), HTML(value='')), layout=Layout(dis…"
      ]
     },
     "metadata": {},
     "output_type": "display_data"
    },
    {
     "name": "stdout",
     "output_type": "stream",
     "text": [
      "\r",
      "Evaluate data in 0.33 seconds!\n",
      "\r",
      "Evaluation on dev at Epoch 2/5. Step:19912/49780: \n",
      "\r",
      "AccuracyMetric: acc=0.400545\n",
      "\n"
     ]
    },
    {
     "data": {
      "application/vnd.jupyter.widget-view+json": {
       "model_id": "",
       "version_major": 2,
       "version_minor": 0
      },
      "text/plain": [
       "HBox(children=(FloatProgress(value=0.0, layout=Layout(flex='2'), max=35.0), HTML(value='')), layout=Layout(dis…"
      ]
     },
     "metadata": {},
     "output_type": "display_data"
    },
    {
     "name": "stdout",
     "output_type": "stream",
     "text": [
      "\r",
      "Evaluate data in 0.23 seconds!\n",
      "\r",
      "Evaluation on dev at Epoch 3/5. Step:29868/49780: \n",
      "\r",
      "AccuracyMetric: acc=0.416894\n",
      "\n"
     ]
    },
    {
     "data": {
      "application/vnd.jupyter.widget-view+json": {
       "model_id": "",
       "version_major": 2,
       "version_minor": 0
      },
      "text/plain": [
       "HBox(children=(FloatProgress(value=0.0, layout=Layout(flex='2'), max=35.0), HTML(value='')), layout=Layout(dis…"
      ]
     },
     "metadata": {},
     "output_type": "display_data"
    },
    {
     "name": "stdout",
     "output_type": "stream",
     "text": [
      "\r",
      "Evaluate data in 0.17 seconds!\n",
      "\r",
      "Evaluation on dev at Epoch 4/5. Step:39824/49780: \n",
      "\r",
      "AccuracyMetric: acc=0.404178\n",
      "\n"
     ]
    },
    {
     "data": {
      "application/vnd.jupyter.widget-view+json": {
       "model_id": "",
       "version_major": 2,
       "version_minor": 0
      },
      "text/plain": [
       "HBox(children=(FloatProgress(value=0.0, layout=Layout(flex='2'), max=35.0), HTML(value='')), layout=Layout(dis…"
      ]
     },
     "metadata": {},
     "output_type": "display_data"
    },
    {
     "name": "stdout",
     "output_type": "stream",
     "text": [
      "\r",
      "Evaluate data in 0.13 seconds!\n",
      "\r",
      "Evaluation on dev at Epoch 5/5. Step:49780/49780: \n",
      "\r",
      "AccuracyMetric: acc=0.419619\n",
      "\n",
      "\r",
      "Reloaded the best model.\n",
      "\n",
      "In Epoch:1/Step:9956, got best dev performance:\n",
      "AccuracyMetric: acc=0.425068\n"
     ]
    },
    {
     "data": {
      "text/plain": [
       "{'best_eval': {'AccuracyMetric': {'acc': 0.425068}},\n",
       " 'best_epoch': 1,\n",
       " 'best_step': 9956,\n",
       " 'seconds': 738.6}"
      ]
     },
     "execution_count": 28,
     "metadata": {},
     "output_type": "execute_result"
    }
   ],
   "source": [
    "from fastNLP import Trainer\n",
    "import torch\n",
    "\n",
    "N_EPOCHS = 5 \n",
    "BATCH_SIZE = 32\n",
    "\n",
    "device = torch.device('cuda' if torch.cuda.is_available() else 'cpu')\n",
    "\n",
    "trainer = Trainer(model=model_lstm, train_data=train_data, dev_data=val_data, \n",
    "                  loss=loss, metrics=metrics, optimizer=optimizer,\n",
    "                  n_epochs=N_EPOCHS, batch_size=BATCH_SIZE, device=device, \n",
    "                  save_path='./saved_models/sst5-lstm.pt')\n",
    "trainer.train()"
   ]
  },
  {
   "cell_type": "markdown",
   "metadata": {},
   "source": [
    "### Test the Model"
   ]
  },
  {
   "cell_type": "code",
   "execution_count": 29,
   "metadata": {},
   "outputs": [
    {
     "data": {
      "application/vnd.jupyter.widget-view+json": {
       "model_id": "",
       "version_major": 2,
       "version_minor": 0
      },
      "text/plain": [
       "HBox(children=(FloatProgress(value=0.0, layout=Layout(flex='2'), max=139.0), HTML(value='')), layout=Layout(di…"
      ]
     },
     "metadata": {},
     "output_type": "display_data"
    },
    {
     "name": "stdout",
     "output_type": "stream",
     "text": [
      "\r",
      "Evaluate data in 0.46 seconds!\n",
      "[tester] \n",
      "AccuracyMetric: acc=0.462443\n"
     ]
    },
    {
     "data": {
      "text/plain": [
       "{'AccuracyMetric': {'acc': 0.462443}}"
      ]
     },
     "execution_count": 29,
     "metadata": {},
     "output_type": "execute_result"
    }
   ],
   "source": [
    "from fastNLP import Tester\n",
    "\n",
    "tester = Tester(test_data, model_lstm, metrics=AccuracyMetric())\n",
    "tester.test()"
   ]
  },
  {
   "cell_type": "code",
   "execution_count": null,
   "metadata": {},
   "outputs": [],
   "source": []
  }
 ],
 "metadata": {
  "kernelspec": {
   "display_name": "Conda Py37-Cuda101",
   "language": "python",
   "name": "py37-cuda101"
  },
  "language_info": {
   "codemirror_mode": {
    "name": "ipython",
    "version": 3
   },
   "file_extension": ".py",
   "mimetype": "text/x-python",
   "name": "python",
   "nbconvert_exporter": "python",
   "pygments_lexer": "ipython3",
   "version": "3.7.7"
  }
 },
 "nbformat": 4,
 "nbformat_minor": 5
}
