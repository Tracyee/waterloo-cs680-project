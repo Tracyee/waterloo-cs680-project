{
 "cells": [
  {
   "cell_type": "markdown",
   "metadata": {},
   "source": [
    "### Load Data"
   ]
  },
  {
   "cell_type": "code",
   "execution_count": 1,
   "metadata": {},
   "outputs": [],
   "source": [
    "from fastNLP.io import SSTLoader\n",
    "\n",
    "# initialize the SSTLoader\n",
    "loader = SSTLoader()\n",
    "# download the dataset to the default cache directory and returns the directory\n",
    "data_dir = loader.download()\n",
    "# load the dataset from the directory to a DataBundle   \n",
    "data_bundle = loader.load(data_dir)  "
   ]
  },
  {
   "cell_type": "code",
   "execution_count": 2,
   "metadata": {},
   "outputs": [
    {
     "name": "stdout",
     "output_type": "stream",
     "text": [
      "In total 3 datasets:\n",
      "\tdev has 1101 instances.\n",
      "\ttest has 2210 instances.\n",
      "\ttrain has 8544 instances.\n",
      "\n"
     ]
    }
   ],
   "source": [
    "print(data_bundle)"
   ]
  },
  {
   "cell_type": "markdown",
   "metadata": {},
   "source": [
    "### Preprocessing"
   ]
  },
  {
   "cell_type": "code",
   "execution_count": 3,
   "metadata": {},
   "outputs": [
    {
     "name": "stdout",
     "output_type": "stream",
     "text": [
      "In total 3 datasets:\n",
      "\tdev has 1101 instances.\n",
      "\ttest has 2210 instances.\n",
      "\ttrain has 318582 instances.\n",
      "In total 2 vocabs:\n",
      "\twords has 20204 entries.\n",
      "\ttarget has 5 entries.\n",
      "\n"
     ]
    }
   ],
   "source": [
    "from fastNLP.io import SSTPipe\n",
    "\n",
    "pipe = SSTPipe(subtree=False, \n",
    "               train_subtree=True, \n",
    "               lower=False, \n",
    "               granularity=5, tokenizer='spacy')\n",
    "\n",
    "# (1) tokenization;\n",
    "# (2) create vocabulary and indices from words;\n",
    "data_bundle = pipe.process(data_bundle)  \n",
    "\n",
    "print(data_bundle)"
   ]
  },
  {
   "cell_type": "code",
   "execution_count": 4,
   "metadata": {},
   "outputs": [
    {
     "name": "stdout",
     "output_type": "stream",
     "text": [
      "+------------------------+--------+------------------------+---------+\n",
      "| raw_words              | target | words                  | seq_len |\n",
      "+------------------------+--------+------------------------+---------+\n",
      "| The Rock is destine... | 1      | [21, 1215, 11, 5536... | 39      |\n",
      "| The Rock               | 0      | [21, 1215]             | 2       |\n",
      "| The                    | 0      | [21]                   | 1       |\n",
      "| Rock                   | 0      | [1215]                 | 1       |\n",
      "| is destined to be t... | 3      | [11, 5536, 8, 26, 2... | 37      |\n",
      "+------------------------+--------+------------------------+---------+\n"
     ]
    }
   ],
   "source": [
    "print(data_bundle.get_dataset('train')[:5])"
   ]
  },
  {
   "cell_type": "code",
   "execution_count": 5,
   "metadata": {},
   "outputs": [
    {
     "name": "stdout",
     "output_type": "stream",
     "text": [
      "Vocabulary(['The', 'Rock', 'is', 'destined', 'to']...)\n"
     ]
    }
   ],
   "source": [
    "vocab = data_bundle.get_vocab('words')\n",
    "print(vocab)"
   ]
  },
  {
   "cell_type": "code",
   "execution_count": 6,
   "metadata": {},
   "outputs": [
    {
     "name": "stdout",
     "output_type": "stream",
     "text": [
      "The index of the word 'Rock' is 1215\n",
      "index:1215 corresponds to the word Rock\n"
     ]
    }
   ],
   "source": [
    "index = vocab.to_index('Rock')\n",
    "print(\"The index of the word 'Rock' is {}\".format(index))\n",
    "print(\"index:{} corresponds to the word {}\".format(index, vocab.to_word(index)))"
   ]
  },
  {
   "cell_type": "markdown",
   "metadata": {},
   "source": [
    "### Word Embedding"
   ]
  },
  {
   "cell_type": "code",
   "execution_count": 7,
   "metadata": {},
   "outputs": [
    {
     "name": "stdout",
     "output_type": "stream",
     "text": [
      "Found 14858 out of 20204 words in the pre-training embedding.\n"
     ]
    }
   ],
   "source": [
    "from fastNLP.embeddings import StaticEmbedding\n",
    "\n",
    "glove_embed = StaticEmbedding(vocab, model_dir_or_name='en-glove-42b-300d', requires_grad=True)"
   ]
  },
  {
   "cell_type": "markdown",
   "metadata": {},
   "source": [
    "### Load Training/Testing/Validation Set"
   ]
  },
  {
   "cell_type": "code",
   "execution_count": 8,
   "metadata": {},
   "outputs": [
    {
     "name": "stdout",
     "output_type": "stream",
     "text": [
      "#entries in training set:318582\n",
      "#entries in testing set:2210\n",
      "#entries in validation set:1101\n",
      "\n"
     ]
    }
   ],
   "source": [
    "train_data = data_bundle.get_dataset('train')\n",
    "test_data = data_bundle.get_dataset('test')\n",
    "val_data = data_bundle.get_dataset('dev')\n",
    "\n",
    "print(\"#entries in training set:{}\\n#entries in testing set:{}\\n#entries in validation set:{}\\n\"\n",
    "      .format(len(train_data), len(test_data), len(val_data)))"
   ]
  },
  {
   "cell_type": "code",
   "execution_count": 9,
   "metadata": {},
   "outputs": [
    {
     "name": "stdout",
     "output_type": "stream",
     "text": [
      "+-------------+-----------+--------+-------+---------+\n",
      "| field_names | raw_words | target | words | seq_len |\n",
      "+-------------+-----------+--------+-------+---------+\n",
      "|   is_input  |   False   | False  |  True |   True  |\n",
      "|  is_target  |   False   |  True  | False |  False  |\n",
      "| ignore_type |           | False  | False |  False  |\n",
      "|  pad_value  |           |   0    |   0   |    0    |\n",
      "+-------------+-----------+--------+-------+---------+\n"
     ]
    },
    {
     "data": {
      "text/plain": [
       "<prettytable.prettytable.PrettyTable at 0x7f94eee1fed0>"
      ]
     },
     "execution_count": 9,
     "metadata": {},
     "output_type": "execute_result"
    }
   ],
   "source": [
    "# NOTE: field whose is_input is true will become batch_x for iterations in DataSetIter \n",
    "#       while field whose is_target is true will become batch_y for iterations in DataSetIter\n",
    "\n",
    "train_data.print_field_meta()"
   ]
  },
  {
   "cell_type": "markdown",
   "metadata": {},
   "source": [
    "### Create Model"
   ]
  },
  {
   "cell_type": "code",
   "execution_count": 10,
   "metadata": {},
   "outputs": [
    {
     "name": "stdout",
     "output_type": "stream",
     "text": [
      "CNNText(\n",
      "  (embed): Embedding(\n",
      "    (embed): Embedding(20204, 300)\n",
      "    (dropout): Dropout(p=0.0, inplace=False)\n",
      "  )\n",
      "  (conv_pool): ConvMaxpool(\n",
      "    (convs): ModuleList(\n",
      "      (0): Conv1d(300, 100, kernel_size=(1,), stride=(1,), bias=False)\n",
      "      (1): Conv1d(300, 100, kernel_size=(3,), stride=(1,), padding=(1,), bias=False)\n",
      "      (2): Conv1d(300, 100, kernel_size=(5,), stride=(1,), padding=(2,), bias=False)\n",
      "    )\n",
      "  )\n",
      "  (dropout): Dropout(p=0.5, inplace=False)\n",
      "  (fc): Linear(in_features=300, out_features=5, bias=True)\n",
      ")\n"
     ]
    }
   ],
   "source": [
    "from fastNLP.models import CNNText\n",
    "\n",
    "# dimention for word embedding\n",
    "EMBED_DIM = 300\n",
    "\n",
    "model_cnn = CNNText((len(vocab),EMBED_DIM), num_classes=5, kernel_nums=(100, 100, 100),\n",
    "                 kernel_sizes=(1, 3, 5), dropout=0.5)\n",
    "\n",
    "print(model_cnn)"
   ]
  },
  {
   "cell_type": "markdown",
   "metadata": {},
   "source": [
    "### Evaluation Metric"
   ]
  },
  {
   "cell_type": "code",
   "execution_count": 11,
   "metadata": {},
   "outputs": [],
   "source": [
    "from fastNLP import AccuracyMetric\n",
    "from fastNLP import Const\n",
    "\n",
    "# `pred` corresponds to one key from the returned dict by the `forward` method of the model\n",
    "# `target` corresponds to the field name representing the lable of the DataSet\n",
    "metrics = AccuracyMetric(pred=Const.OUTPUT, target=Const.TARGET)"
   ]
  },
  {
   "cell_type": "markdown",
   "metadata": {},
   "source": [
    "### Loss Function & Optimizer"
   ]
  },
  {
   "cell_type": "code",
   "execution_count": 12,
   "metadata": {},
   "outputs": [],
   "source": [
    "from fastNLP import CrossEntropyLoss\n",
    "\n",
    "loss = CrossEntropyLoss(pred=Const.OUTPUT, target=Const.TARGET)"
   ]
  },
  {
   "cell_type": "code",
   "execution_count": 13,
   "metadata": {},
   "outputs": [],
   "source": [
    "import torch.optim as optim\n",
    "\n",
    "optimizer = optim.Adam(model_cnn.parameters(), lr=1e-3, betas=(0.9, 0.999), \n",
    "                       eps=1e-08, weight_decay=0, amsgrad=False)\n"
   ]
  },
  {
   "cell_type": "markdown",
   "metadata": {},
   "source": [
    "### Train the Model"
   ]
  },
  {
   "cell_type": "code",
   "execution_count": 14,
   "metadata": {},
   "outputs": [
    {
     "name": "stdout",
     "output_type": "stream",
     "text": [
      "input fields after batch(if batch size is 2):\n",
      "\twords: (1)type:torch.Tensor (2)dtype:torch.int64, (3)shape:torch.Size([2, 39]) \n",
      "\tseq_len: (1)type:torch.Tensor (2)dtype:torch.int64, (3)shape:torch.Size([2]) \n",
      "target fields after batch(if batch size is 2):\n",
      "\ttarget: (1)type:torch.Tensor (2)dtype:torch.int64, (3)shape:torch.Size([2]) \n",
      "\n",
      "training epochs started 2021-04-19-17-40-33-977287\n"
     ]
    },
    {
     "data": {
      "application/vnd.jupyter.widget-view+json": {
       "model_id": "",
       "version_major": 2,
       "version_minor": 0
      },
      "text/plain": [
       "HBox(children=(FloatProgress(value=0.0, layout=Layout(flex='2'), max=49780.0), HTML(value='')), layout=Layout(…"
      ]
     },
     "metadata": {},
     "output_type": "display_data"
    },
    {
     "data": {
      "application/vnd.jupyter.widget-view+json": {
       "model_id": "",
       "version_major": 2,
       "version_minor": 0
      },
      "text/plain": [
       "HBox(children=(FloatProgress(value=0.0, layout=Layout(flex='2'), max=35.0), HTML(value='')), layout=Layout(dis…"
      ]
     },
     "metadata": {},
     "output_type": "display_data"
    },
    {
     "name": "stdout",
     "output_type": "stream",
     "text": [
      "\r",
      "Evaluate data in 0.08 seconds!\n",
      "\r",
      "Evaluation on dev at Epoch 1/5. Step:9956/49780: \n",
      "\r",
      "AccuracyMetric: acc=0.438692\n",
      "\n"
     ]
    },
    {
     "data": {
      "application/vnd.jupyter.widget-view+json": {
       "model_id": "",
       "version_major": 2,
       "version_minor": 0
      },
      "text/plain": [
       "HBox(children=(FloatProgress(value=0.0, layout=Layout(flex='2'), max=35.0), HTML(value='')), layout=Layout(dis…"
      ]
     },
     "metadata": {},
     "output_type": "display_data"
    },
    {
     "name": "stdout",
     "output_type": "stream",
     "text": [
      "\r",
      "Evaluate data in 0.08 seconds!\n",
      "\r",
      "Evaluation on dev at Epoch 2/5. Step:19912/49780: \n",
      "\r",
      "AccuracyMetric: acc=0.454133\n",
      "\n"
     ]
    },
    {
     "data": {
      "application/vnd.jupyter.widget-view+json": {
       "model_id": "",
       "version_major": 2,
       "version_minor": 0
      },
      "text/plain": [
       "HBox(children=(FloatProgress(value=0.0, layout=Layout(flex='2'), max=35.0), HTML(value='')), layout=Layout(dis…"
      ]
     },
     "metadata": {},
     "output_type": "display_data"
    },
    {
     "name": "stdout",
     "output_type": "stream",
     "text": [
      "\r",
      "Evaluate data in 0.1 seconds!\n",
      "\r",
      "Evaluation on dev at Epoch 3/5. Step:29868/49780: \n",
      "\r",
      "AccuracyMetric: acc=0.417802\n",
      "\n"
     ]
    },
    {
     "data": {
      "application/vnd.jupyter.widget-view+json": {
       "model_id": "",
       "version_major": 2,
       "version_minor": 0
      },
      "text/plain": [
       "HBox(children=(FloatProgress(value=0.0, layout=Layout(flex='2'), max=35.0), HTML(value='')), layout=Layout(dis…"
      ]
     },
     "metadata": {},
     "output_type": "display_data"
    },
    {
     "name": "stdout",
     "output_type": "stream",
     "text": [
      "\r",
      "Evaluate data in 0.1 seconds!\n",
      "\r",
      "Evaluation on dev at Epoch 4/5. Step:39824/49780: \n",
      "\r",
      "AccuracyMetric: acc=0.420527\n",
      "\n"
     ]
    },
    {
     "data": {
      "application/vnd.jupyter.widget-view+json": {
       "model_id": "",
       "version_major": 2,
       "version_minor": 0
      },
      "text/plain": [
       "HBox(children=(FloatProgress(value=0.0, layout=Layout(flex='2'), max=35.0), HTML(value='')), layout=Layout(dis…"
      ]
     },
     "metadata": {},
     "output_type": "display_data"
    },
    {
     "name": "stdout",
     "output_type": "stream",
     "text": [
      "\r",
      "Evaluate data in 0.1 seconds!\n",
      "\r",
      "Evaluation on dev at Epoch 5/5. Step:49780/49780: \n",
      "\r",
      "AccuracyMetric: acc=0.420527\n",
      "\n",
      "\r",
      "Reloaded the best model.\n",
      "\n",
      "In Epoch:2/Step:19912, got best dev performance:\n",
      "AccuracyMetric: acc=0.454133\n"
     ]
    },
    {
     "data": {
      "text/plain": [
       "{'best_eval': {'AccuracyMetric': {'acc': 0.454133}},\n",
       " 'best_epoch': 2,\n",
       " 'best_step': 19912,\n",
       " 'seconds': 350.89}"
      ]
     },
     "execution_count": 14,
     "metadata": {},
     "output_type": "execute_result"
    }
   ],
   "source": [
    "from fastNLP import Trainer\n",
    "import torch\n",
    "\n",
    "N_EPOCHS = 5 \n",
    "BATCH_SIZE = 32\n",
    "\n",
    "device = torch.device('cuda' if torch.cuda.is_available() else 'cpu')\n",
    "\n",
    "trainer = Trainer(model=model_cnn, train_data=train_data, dev_data=val_data, \n",
    "                  loss=loss, metrics=metrics, optimizer=optimizer,\n",
    "                  n_epochs=N_EPOCHS, batch_size=BATCH_SIZE, device=device,\n",
    "                  save_path='./saved_models/sst5-cnn-rand.pt')\n",
    "trainer.train()"
   ]
  },
  {
   "cell_type": "markdown",
   "metadata": {},
   "source": [
    "### Test the Model"
   ]
  },
  {
   "cell_type": "code",
   "execution_count": 15,
   "metadata": {},
   "outputs": [
    {
     "data": {
      "application/vnd.jupyter.widget-view+json": {
       "model_id": "",
       "version_major": 2,
       "version_minor": 0
      },
      "text/plain": [
       "HBox(children=(FloatProgress(value=0.0, layout=Layout(flex='2'), max=139.0), HTML(value='')), layout=Layout(di…"
      ]
     },
     "metadata": {},
     "output_type": "display_data"
    },
    {
     "name": "stdout",
     "output_type": "stream",
     "text": [
      "\r",
      "Evaluate data in 0.35 seconds!\n",
      "[tester] \n",
      "AccuracyMetric: acc=0.433032\n"
     ]
    },
    {
     "data": {
      "text/plain": [
       "{'AccuracyMetric': {'acc': 0.433032}}"
      ]
     },
     "execution_count": 15,
     "metadata": {},
     "output_type": "execute_result"
    }
   ],
   "source": [
    "from fastNLP import Tester\n",
    "\n",
    "tester = Tester(test_data, model_cnn, metrics=AccuracyMetric())\n",
    "tester.test()"
   ]
  },
  {
   "cell_type": "code",
   "execution_count": null,
   "metadata": {},
   "outputs": [],
   "source": []
  }
 ],
 "metadata": {
  "kernelspec": {
   "display_name": "Conda Py37-Cuda101",
   "language": "python",
   "name": "py37-cuda101"
  },
  "language_info": {
   "codemirror_mode": {
    "name": "ipython",
    "version": 3
   },
   "file_extension": ".py",
   "mimetype": "text/x-python",
   "name": "python",
   "nbconvert_exporter": "python",
   "pygments_lexer": "ipython3",
   "version": "3.7.7"
  }
 },
 "nbformat": 4,
 "nbformat_minor": 5
}
